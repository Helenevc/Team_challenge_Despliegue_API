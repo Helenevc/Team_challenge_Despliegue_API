{
 "cells": [
  {
   "cell_type": "markdown",
   "id": "b3dfaec5",
   "metadata": {},
   "source": [
    "<p style=\"text-align:center; font-size:48px;\">\n",
    "LA ADICCIÓN A REDES SOCIALES\n",
    "</h1>\n",
    "</p>"
   ]
  },
  {
   "cell_type": "markdown",
   "id": "52753cc4",
   "metadata": {},
   "source": [
    "\n",
    "<p align=\"center\">\n",
    "  <img src=\"src/img/redes_sociales_sin_cabezas.jpg\" alt=\"Adicción a redes sociales\" width=\"600\" />\n",
    "</p>"
   ]
  },
  {
   "cell_type": "markdown",
   "id": "7fa8d4e6",
   "metadata": {},
   "source": [
    "**📦Librerias necesarias**"
   ]
  },
  {
   "cell_type": "code",
   "execution_count": 213,
   "id": "9f412548",
   "metadata": {},
   "outputs": [],
   "source": [
    "import numpy as np\n",
    "import pandas as pd\n",
    "\n",
    "from sklearn.model_selection import train_test_split\n",
    "from sklearn.ensemble import RandomForestClassifier\n",
    "from sklearn.model_selection import cross_val_score\n",
    "from imblearn.over_sampling import SMOTE\n",
    "from sklearn.model_selection import GridSearchCV\n",
    "import pickle\n",
    "\n"
   ]
  },
  {
   "cell_type": "markdown",
   "id": "0b87c702",
   "metadata": {},
   "source": [
    "**1. Visualizacion general de mis datos**\n",
    "\n",
    "Nos encontramos con un Dataset aparentemente limpio, detectamos una columna ID, hacemos una copia de seguridad y quitamos esta columna que no nos sera util. Nos encontramos con un problema supervisado de clasificacion multiclases"
   ]
  },
  {
   "cell_type": "code",
   "execution_count": 214,
   "id": "08f383cf",
   "metadata": {},
   "outputs": [
    {
     "data": {
      "text/html": [
       "<div>\n",
       "<style scoped>\n",
       "    .dataframe tbody tr th:only-of-type {\n",
       "        vertical-align: middle;\n",
       "    }\n",
       "\n",
       "    .dataframe tbody tr th {\n",
       "        vertical-align: top;\n",
       "    }\n",
       "\n",
       "    .dataframe thead th {\n",
       "        text-align: right;\n",
       "    }\n",
       "</style>\n",
       "<table border=\"1\" class=\"dataframe\">\n",
       "  <thead>\n",
       "    <tr style=\"text-align: right;\">\n",
       "      <th></th>\n",
       "      <th>Student_ID</th>\n",
       "      <th>Age</th>\n",
       "      <th>Gender</th>\n",
       "      <th>Academic_Level</th>\n",
       "      <th>Country</th>\n",
       "      <th>Avg_Daily_Usage_Hours</th>\n",
       "      <th>Most_Used_Platform</th>\n",
       "      <th>Affects_Academic_Performance</th>\n",
       "      <th>Sleep_Hours_Per_Night</th>\n",
       "      <th>Mental_Health_Score</th>\n",
       "      <th>Relationship_Status</th>\n",
       "      <th>Conflicts_Over_Social_Media</th>\n",
       "      <th>Addicted_Score</th>\n",
       "    </tr>\n",
       "  </thead>\n",
       "  <tbody>\n",
       "    <tr>\n",
       "      <th>0</th>\n",
       "      <td>1</td>\n",
       "      <td>19</td>\n",
       "      <td>Female</td>\n",
       "      <td>Undergraduate</td>\n",
       "      <td>Bangladesh</td>\n",
       "      <td>5.2</td>\n",
       "      <td>Instagram</td>\n",
       "      <td>Yes</td>\n",
       "      <td>6.5</td>\n",
       "      <td>6</td>\n",
       "      <td>In Relationship</td>\n",
       "      <td>3</td>\n",
       "      <td>8</td>\n",
       "    </tr>\n",
       "    <tr>\n",
       "      <th>1</th>\n",
       "      <td>2</td>\n",
       "      <td>22</td>\n",
       "      <td>Male</td>\n",
       "      <td>Graduate</td>\n",
       "      <td>India</td>\n",
       "      <td>2.1</td>\n",
       "      <td>Twitter</td>\n",
       "      <td>No</td>\n",
       "      <td>7.5</td>\n",
       "      <td>8</td>\n",
       "      <td>Single</td>\n",
       "      <td>0</td>\n",
       "      <td>3</td>\n",
       "    </tr>\n",
       "    <tr>\n",
       "      <th>2</th>\n",
       "      <td>3</td>\n",
       "      <td>20</td>\n",
       "      <td>Female</td>\n",
       "      <td>Undergraduate</td>\n",
       "      <td>USA</td>\n",
       "      <td>6.0</td>\n",
       "      <td>TikTok</td>\n",
       "      <td>Yes</td>\n",
       "      <td>5.0</td>\n",
       "      <td>5</td>\n",
       "      <td>Complicated</td>\n",
       "      <td>4</td>\n",
       "      <td>9</td>\n",
       "    </tr>\n",
       "    <tr>\n",
       "      <th>3</th>\n",
       "      <td>4</td>\n",
       "      <td>18</td>\n",
       "      <td>Male</td>\n",
       "      <td>High School</td>\n",
       "      <td>UK</td>\n",
       "      <td>3.0</td>\n",
       "      <td>YouTube</td>\n",
       "      <td>No</td>\n",
       "      <td>7.0</td>\n",
       "      <td>7</td>\n",
       "      <td>Single</td>\n",
       "      <td>1</td>\n",
       "      <td>4</td>\n",
       "    </tr>\n",
       "    <tr>\n",
       "      <th>4</th>\n",
       "      <td>5</td>\n",
       "      <td>21</td>\n",
       "      <td>Male</td>\n",
       "      <td>Graduate</td>\n",
       "      <td>Canada</td>\n",
       "      <td>4.5</td>\n",
       "      <td>Facebook</td>\n",
       "      <td>Yes</td>\n",
       "      <td>6.0</td>\n",
       "      <td>6</td>\n",
       "      <td>In Relationship</td>\n",
       "      <td>2</td>\n",
       "      <td>7</td>\n",
       "    </tr>\n",
       "  </tbody>\n",
       "</table>\n",
       "</div>"
      ],
      "text/plain": [
       "   Student_ID  Age  Gender Academic_Level     Country  Avg_Daily_Usage_Hours  \\\n",
       "0           1   19  Female  Undergraduate  Bangladesh                    5.2   \n",
       "1           2   22    Male       Graduate       India                    2.1   \n",
       "2           3   20  Female  Undergraduate         USA                    6.0   \n",
       "3           4   18    Male    High School          UK                    3.0   \n",
       "4           5   21    Male       Graduate      Canada                    4.5   \n",
       "\n",
       "  Most_Used_Platform Affects_Academic_Performance  Sleep_Hours_Per_Night  \\\n",
       "0          Instagram                          Yes                    6.5   \n",
       "1            Twitter                           No                    7.5   \n",
       "2             TikTok                          Yes                    5.0   \n",
       "3            YouTube                           No                    7.0   \n",
       "4           Facebook                          Yes                    6.0   \n",
       "\n",
       "   Mental_Health_Score Relationship_Status  Conflicts_Over_Social_Media  \\\n",
       "0                    6     In Relationship                            3   \n",
       "1                    8              Single                            0   \n",
       "2                    5         Complicated                            4   \n",
       "3                    7              Single                            1   \n",
       "4                    6     In Relationship                            2   \n",
       "\n",
       "   Addicted_Score  \n",
       "0               8  \n",
       "1               3  \n",
       "2               9  \n",
       "3               4  \n",
       "4               7  "
      ]
     },
     "execution_count": 214,
     "metadata": {},
     "output_type": "execute_result"
    }
   ],
   "source": [
    "student = pd.read_csv(\"./data/Students_Social_Media_Addiction.csv\", sep = \",\")\n",
    "student.head()"
   ]
  },
  {
   "cell_type": "code",
   "execution_count": 215,
   "id": "d02b02f9",
   "metadata": {},
   "outputs": [
    {
     "name": "stdout",
     "output_type": "stream",
     "text": [
      "<class 'pandas.core.frame.DataFrame'>\n",
      "RangeIndex: 705 entries, 0 to 704\n",
      "Data columns (total 13 columns):\n",
      " #   Column                        Non-Null Count  Dtype  \n",
      "---  ------                        --------------  -----  \n",
      " 0   Student_ID                    705 non-null    int64  \n",
      " 1   Age                           705 non-null    int64  \n",
      " 2   Gender                        705 non-null    object \n",
      " 3   Academic_Level                705 non-null    object \n",
      " 4   Country                       705 non-null    object \n",
      " 5   Avg_Daily_Usage_Hours         705 non-null    float64\n",
      " 6   Most_Used_Platform            705 non-null    object \n",
      " 7   Affects_Academic_Performance  705 non-null    object \n",
      " 8   Sleep_Hours_Per_Night         705 non-null    float64\n",
      " 9   Mental_Health_Score           705 non-null    int64  \n",
      " 10  Relationship_Status           705 non-null    object \n",
      " 11  Conflicts_Over_Social_Media   705 non-null    int64  \n",
      " 12  Addicted_Score                705 non-null    int64  \n",
      "dtypes: float64(2), int64(5), object(6)\n",
      "memory usage: 71.7+ KB\n"
     ]
    }
   ],
   "source": [
    "student.info()"
   ]
  },
  {
   "cell_type": "code",
   "execution_count": 216,
   "id": "c0223a68",
   "metadata": {},
   "outputs": [],
   "source": [
    "to_drop= [\"Student_ID\",\"Gender\",\"Academic_Level\",\"Avg_Daily_Usage_Hours\", \"Most_Used_Platform\",\"Affects_Academic_Performance\",\"Mental_Health_Score\", \"Relationship_Status\", \"Conflicts_Over_Social_Media\"]"
   ]
  },
  {
   "cell_type": "code",
   "execution_count": 217,
   "id": "d06df6c2",
   "metadata": {},
   "outputs": [],
   "source": [
    "df= student.copy()"
   ]
  },
  {
   "cell_type": "code",
   "execution_count": 218,
   "id": "5e7c9559",
   "metadata": {},
   "outputs": [],
   "source": [
    "df.drop(to_drop, axis=1,inplace=True)"
   ]
  },
  {
   "cell_type": "code",
   "execution_count": 219,
   "id": "801279fb",
   "metadata": {},
   "outputs": [
    {
     "data": {
      "text/html": [
       "<div>\n",
       "<style scoped>\n",
       "    .dataframe tbody tr th:only-of-type {\n",
       "        vertical-align: middle;\n",
       "    }\n",
       "\n",
       "    .dataframe tbody tr th {\n",
       "        vertical-align: top;\n",
       "    }\n",
       "\n",
       "    .dataframe thead th {\n",
       "        text-align: right;\n",
       "    }\n",
       "</style>\n",
       "<table border=\"1\" class=\"dataframe\">\n",
       "  <thead>\n",
       "    <tr style=\"text-align: right;\">\n",
       "      <th></th>\n",
       "      <th>Age</th>\n",
       "      <th>Country</th>\n",
       "      <th>Sleep_Hours_Per_Night</th>\n",
       "      <th>Addicted_Score</th>\n",
       "    </tr>\n",
       "  </thead>\n",
       "  <tbody>\n",
       "    <tr>\n",
       "      <th>0</th>\n",
       "      <td>19</td>\n",
       "      <td>Bangladesh</td>\n",
       "      <td>6.5</td>\n",
       "      <td>8</td>\n",
       "    </tr>\n",
       "    <tr>\n",
       "      <th>1</th>\n",
       "      <td>22</td>\n",
       "      <td>India</td>\n",
       "      <td>7.5</td>\n",
       "      <td>3</td>\n",
       "    </tr>\n",
       "    <tr>\n",
       "      <th>2</th>\n",
       "      <td>20</td>\n",
       "      <td>USA</td>\n",
       "      <td>5.0</td>\n",
       "      <td>9</td>\n",
       "    </tr>\n",
       "    <tr>\n",
       "      <th>3</th>\n",
       "      <td>18</td>\n",
       "      <td>UK</td>\n",
       "      <td>7.0</td>\n",
       "      <td>4</td>\n",
       "    </tr>\n",
       "    <tr>\n",
       "      <th>4</th>\n",
       "      <td>21</td>\n",
       "      <td>Canada</td>\n",
       "      <td>6.0</td>\n",
       "      <td>7</td>\n",
       "    </tr>\n",
       "    <tr>\n",
       "      <th>...</th>\n",
       "      <td>...</td>\n",
       "      <td>...</td>\n",
       "      <td>...</td>\n",
       "      <td>...</td>\n",
       "    </tr>\n",
       "    <tr>\n",
       "      <th>700</th>\n",
       "      <td>20</td>\n",
       "      <td>Italy</td>\n",
       "      <td>7.2</td>\n",
       "      <td>5</td>\n",
       "    </tr>\n",
       "    <tr>\n",
       "      <th>701</th>\n",
       "      <td>23</td>\n",
       "      <td>Russia</td>\n",
       "      <td>5.9</td>\n",
       "      <td>9</td>\n",
       "    </tr>\n",
       "    <tr>\n",
       "      <th>702</th>\n",
       "      <td>21</td>\n",
       "      <td>China</td>\n",
       "      <td>6.7</td>\n",
       "      <td>7</td>\n",
       "    </tr>\n",
       "    <tr>\n",
       "      <th>703</th>\n",
       "      <td>24</td>\n",
       "      <td>Japan</td>\n",
       "      <td>7.5</td>\n",
       "      <td>4</td>\n",
       "    </tr>\n",
       "    <tr>\n",
       "      <th>704</th>\n",
       "      <td>19</td>\n",
       "      <td>Poland</td>\n",
       "      <td>6.3</td>\n",
       "      <td>8</td>\n",
       "    </tr>\n",
       "  </tbody>\n",
       "</table>\n",
       "<p>705 rows × 4 columns</p>\n",
       "</div>"
      ],
      "text/plain": [
       "     Age     Country  Sleep_Hours_Per_Night  Addicted_Score\n",
       "0     19  Bangladesh                    6.5               8\n",
       "1     22       India                    7.5               3\n",
       "2     20         USA                    5.0               9\n",
       "3     18          UK                    7.0               4\n",
       "4     21      Canada                    6.0               7\n",
       "..   ...         ...                    ...             ...\n",
       "700   20       Italy                    7.2               5\n",
       "701   23      Russia                    5.9               9\n",
       "702   21       China                    6.7               7\n",
       "703   24       Japan                    7.5               4\n",
       "704   19      Poland                    6.3               8\n",
       "\n",
       "[705 rows x 4 columns]"
      ]
     },
     "execution_count": 219,
     "metadata": {},
     "output_type": "execute_result"
    }
   ],
   "source": [
    "df"
   ]
  },
  {
   "cell_type": "markdown",
   "id": "a3958bbc",
   "metadata": {},
   "source": [
    "**2. Separamos nuestro dataset, e identificamos el target:**"
   ]
  },
  {
   "cell_type": "code",
   "execution_count": 220,
   "id": "23b09784",
   "metadata": {},
   "outputs": [],
   "source": [
    "train_set, test_set = train_test_split(df, test_size= 0.2, random_state= 42)\n",
    "target = \"Addicted_Score\""
   ]
  },
  {
   "cell_type": "markdown",
   "id": "4fd6531b",
   "metadata": {},
   "source": [
    "**3. Miremos el target:**\n",
    "\n",
    "Nos encontramos frente a un problema de clasificacion multiclase, no balanceado. "
   ]
  },
  {
   "cell_type": "code",
   "execution_count": 221,
   "id": "2f423eb5",
   "metadata": {},
   "outputs": [
    {
     "data": {
      "text/plain": [
       "Addicted_Score\n",
       "7    0.296454\n",
       "8    0.204255\n",
       "5    0.192908\n",
       "4    0.117730\n",
       "6    0.086525\n",
       "9    0.078014\n",
       "3    0.022695\n",
       "2    0.001418\n",
       "Name: proportion, dtype: float64"
      ]
     },
     "execution_count": 221,
     "metadata": {},
     "output_type": "execute_result"
    }
   ],
   "source": [
    "df[target].value_counts(normalize=True)"
   ]
  },
  {
   "cell_type": "code",
   "execution_count": 222,
   "id": "6951f5d1",
   "metadata": {},
   "outputs": [],
   "source": [
    "# TRANSFORMACIONES - importante, tenemos en cuenta posibles outliers a futuro \n",
    "# COUNTRY \n",
    "\n",
    "country_to_continent = {\n",
    "    #Asia\n",
    "    'Afghanistan': 'Asia', 'Armenia': 'Asia', 'Azerbaijan': 'Asia', 'Bahrain': 'Asia',\n",
    "    'Bangladesh': 'Asia', 'Bhutan': 'Asia', 'Cyprus': 'Asia', 'Georgia': 'Asia',\n",
    "    'India': 'Asia', 'Indonesia': 'Asia', 'Iraq': 'Asia', 'Israel': 'Asia',\n",
    "    'Japan': 'Asia', 'Jordan': 'Asia', 'Kazakhstan': 'Asia', 'Kuwait': 'Asia',\n",
    "    'Kyrgyzstan': 'Asia', 'Lebanon': 'Asia', 'Malaysia': 'Asia', 'Maldives': 'Asia',\n",
    "    'Nepal': 'Asia', 'Oman': 'Asia', 'Pakistan': 'Asia', 'Philippines': 'Asia',\n",
    "    'Qatar': 'Asia', 'Singapore': 'Asia', 'South Korea': 'Asia', 'Sri Lanka': 'Asia',\n",
    "    'Syria': 'Asia', 'Taiwan': 'Asia', 'Tajikistan': 'Asia', 'Thailand': 'Asia',\n",
    "    'Turkey': 'Asia', 'UAE': 'Asia', 'Uzbekistan': 'Asia', 'Vietnam': 'Asia',\n",
    "    'Yemen': 'Asia',\n",
    "    # Africa\n",
    "    'Egypt': 'Africa', 'Ghana': 'Africa', 'Kenya': 'Africa',\n",
    "    'Morocco': 'Africa', 'Nigeria': 'Africa', 'South Africa': 'Africa', 'Argelia': 'Africa', 'Angola': 'Africa','Benin': 'Africa', 'Botswana': 'Africa','Burkina Faso': 'Africa','Burundi': 'Africa', 'Cape Verde': 'Africa', 'Cameroon': 'Africa', 'Chad': 'Africa',\n",
    "    'Comoros': 'Africa','Republic of the Congo': 'Africa',\n",
    "    # North America\n",
    "    'Bahamas':'North America', 'Canada': 'North America', 'Costa Rica': 'North America','Jamaica': 'North America', 'Mexico': 'North America', 'Panama': 'North America',\n",
    "    'Trinidad': 'North America', 'USA': 'North America',\n",
    "    # South America\n",
    "    'Argentina': 'South America', 'Bolivia': 'South America', 'Brazil': 'South America',\n",
    "    'Chile': 'South America', 'Colombia': 'South America', 'Ecuador': 'South America',\n",
    "    'Paraguay': 'South America', 'Peru': 'South America', 'Uruguay': 'South America',\n",
    "    'Venezuela': 'South America',\n",
    "    # Europe\n",
    "    'Albania': 'Europe', 'Andorra': 'Europe', 'Austria': 'Europe', 'Belarus': 'Europe',\n",
    "    'Belgium': 'Europe', 'Bosnia': 'Europe', 'Bulgaria': 'Europe', 'Croatia': 'Europe',\n",
    "    'Czech Republic': 'Europe', 'Denmark': 'Europe', 'Estonia': 'Europe', 'Finland': 'Europe',\n",
    "    'France': 'Europe', 'Germany': 'Europe', 'Greece': 'Europe', 'Hungary': 'Europe',\n",
    "    'Iceland': 'Europe', 'Ireland': 'Europe', 'Italy': 'Europe', 'Kosovo': 'Europe',\n",
    "    'Latvia': 'Europe', 'Liechtenstein': 'Europe', 'Lithuania': 'Europe', 'Luxembourg': 'Europe',\n",
    "    'Malta': 'Europe', 'Moldova': 'Europe', 'Monaco': 'Europe', 'Montenegro': 'Europe',\n",
    "    'Netherlands': 'Europe', 'North Macedonia': 'Europe', 'Norway': 'Europe', 'Poland': 'Europe',\n",
    "    'Portugal': 'Europe', 'Romania': 'Europe', 'San Marino': 'Europe', 'Serbia': 'Europe',\n",
    "    'Slovakia': 'Europe', 'Slovenia': 'Europe', 'Spain': 'Europe', 'Sweden': 'Europe',\n",
    "    'Switzerland': 'Europe', 'Ukraine': 'Europe', 'UK': 'Europe', 'Vatican City': 'Europe',\n",
    "    # Oceania\n",
    "    'Australia': 'Oceania', 'New Zealand': 'Oceania'\n",
    "}\n",
    "\n",
    "train_set['Continent'] = train_set['Country'].map(country_to_continent)\n",
    "test_set['Continent'] = test_set['Country'].map(country_to_continent)\n",
    "train_set.drop(columns=\"Country\", inplace=True)\n",
    "test_set.drop(columns=\"Country\", inplace=True)\n"
   ]
  },
  {
   "cell_type": "code",
   "execution_count": 223,
   "id": "e6a89e46",
   "metadata": {},
   "outputs": [],
   "source": [
    "transformed_cat = [\"Continent\", \"Age\" ]\n",
    "for col in transformed_cat:\n",
    "    train_set= pd.get_dummies(train_set, columns=[col], drop_first=True, dtype=int)\n",
    "    test_set= pd.get_dummies(test_set, columns=[col], drop_first=True, dtype=int)"
   ]
  },
  {
   "cell_type": "code",
   "execution_count": 224,
   "id": "6fb04d7c",
   "metadata": {},
   "outputs": [
    {
     "data": {
      "text/plain": [
       "Index(['Sleep_Hours_Per_Night', 'Addicted_Score', 'Continent_Asia',\n",
       "       'Continent_Europe', 'Continent_North America', 'Continent_Oceania',\n",
       "       'Continent_South America', 'Age_19', 'Age_20', 'Age_21', 'Age_22',\n",
       "       'Age_23', 'Age_24'],\n",
       "      dtype='object')"
      ]
     },
     "execution_count": 224,
     "metadata": {},
     "output_type": "execute_result"
    }
   ],
   "source": [
    "#verificamos que tenemos todas las mismas columnas en test_set que en train.\n",
    "train_set.columns"
   ]
  },
  {
   "cell_type": "code",
   "execution_count": 225,
   "id": "633797c4",
   "metadata": {},
   "outputs": [
    {
     "data": {
      "text/plain": [
       "['Sleep_Hours_Per_Night',\n",
       " 'Addicted_Score',\n",
       " 'Continent_Asia',\n",
       " 'Continent_Europe',\n",
       " 'Continent_North America',\n",
       " 'Continent_Oceania',\n",
       " 'Continent_South America',\n",
       " 'Age_19',\n",
       " 'Age_20',\n",
       " 'Age_21',\n",
       " 'Age_22',\n",
       " 'Age_23',\n",
       " 'Age_24']"
      ]
     },
     "execution_count": 225,
     "metadata": {},
     "output_type": "execute_result"
    }
   ],
   "source": [
    "train_set.columns.to_list()"
   ]
  },
  {
   "cell_type": "code",
   "execution_count": 226,
   "id": "096888fb",
   "metadata": {},
   "outputs": [
    {
     "data": {
      "text/plain": [
       "13"
      ]
     },
     "execution_count": 226,
     "metadata": {},
     "output_type": "execute_result"
    }
   ],
   "source": [
    "len(train_set.columns.to_list())"
   ]
  },
  {
   "cell_type": "code",
   "execution_count": 227,
   "id": "f52487c1",
   "metadata": {},
   "outputs": [
    {
     "data": {
      "text/plain": [
       "13"
      ]
     },
     "execution_count": 227,
     "metadata": {},
     "output_type": "execute_result"
    }
   ],
   "source": [
    "len(test_set.columns.to_list())"
   ]
  },
  {
   "cell_type": "code",
   "execution_count": 228,
   "id": "a4814bec",
   "metadata": {},
   "outputs": [],
   "source": [
    "\n",
    "X_train = train_set.drop(target, axis = 1)\n",
    "y_train = train_set[target]\n",
    "X_test = test_set.drop(target, axis = 1)\n",
    "y_test = test_set[target]"
   ]
  },
  {
   "cell_type": "code",
   "execution_count": 229,
   "id": "4f3afafc",
   "metadata": {},
   "outputs": [],
   "source": [
    "#Aplicamos un SMOTE para el balanceo del target, aseguremos asi el buen entrenamiento tambien de las clases minoritarias\n",
    "sm = SMOTE(random_state=42)\n",
    "X_smoted, y_smoted = sm.fit_resample(X_train, y_train)\n",
    "\n",
    "rfc_smote = RandomForestClassifier(random_state=42,max_depth=15,\n",
    "                       min_samples_leaf=2, n_estimators=50, )\n",
    "resultado = np.mean(cross_val_score(rfc_smote,X_smoted,y_smoted, scoring = \"balanced_accuracy\", cv = 5))\n",
    "print=(f\"Resultado: {resultado}%\")"
   ]
  },
  {
   "cell_type": "code",
   "execution_count": 230,
   "id": "3a2ce856",
   "metadata": {},
   "outputs": [
    {
     "data": {
      "text/plain": [
       "['Sleep_Hours_Per_Night',\n",
       " 'Continent_Asia',\n",
       " 'Continent_Europe',\n",
       " 'Continent_North America',\n",
       " 'Continent_Oceania',\n",
       " 'Continent_South America',\n",
       " 'Age_19',\n",
       " 'Age_20',\n",
       " 'Age_21',\n",
       " 'Age_22',\n",
       " 'Age_23',\n",
       " 'Age_24']"
      ]
     },
     "execution_count": 230,
     "metadata": {},
     "output_type": "execute_result"
    }
   ],
   "source": [
    "X_smoted.columns.to_list()"
   ]
  },
  {
   "cell_type": "code",
   "execution_count": 231,
   "id": "c149034d",
   "metadata": {},
   "outputs": [
    {
     "data": {
      "text/plain": [
       "array([4, 7, 8, 3, 4, 9, 3, 6, 5, 8, 5, 8, 9, 7, 4, 8, 6, 7, 6, 6, 7, 8,\n",
       "       8, 9, 7, 5, 6, 8, 5, 8, 9, 6, 4, 6, 8, 8, 7, 5, 7, 5, 8, 5, 6, 6,\n",
       "       9, 5, 8, 6, 4, 8, 7, 6, 4, 5, 7, 8, 5, 7, 8, 7, 6, 5, 5, 7, 5, 5,\n",
       "       8, 6, 8, 8, 8, 8, 5, 4, 5, 5, 7, 8, 9, 7, 7, 7, 8, 9, 7, 5, 8, 7,\n",
       "       8, 7, 5, 9, 8, 7, 4, 8, 4, 5, 7, 4, 4, 3, 7, 7, 4, 5, 9, 4, 8, 7,\n",
       "       7, 3, 6, 6, 8, 6, 8, 6, 5, 8, 8, 6, 9, 7, 8, 9, 7, 4, 4, 7, 7, 8,\n",
       "       4, 8, 4, 9, 4, 7, 9, 5, 7])"
      ]
     },
     "execution_count": 231,
     "metadata": {},
     "output_type": "execute_result"
    }
   ],
   "source": [
    "rfc_smote=rfc_smote.fit(X_smoted,y_smoted)\n",
    "y_pred = rfc_smote.predict(X_test)\n",
    "y_pred"
   ]
  },
  {
   "cell_type": "code",
   "execution_count": 232,
   "id": "9e1643c1",
   "metadata": {},
   "outputs": [
    {
     "data": {
      "text/html": [
       "<div>\n",
       "<style scoped>\n",
       "    .dataframe tbody tr th:only-of-type {\n",
       "        vertical-align: middle;\n",
       "    }\n",
       "\n",
       "    .dataframe tbody tr th {\n",
       "        vertical-align: top;\n",
       "    }\n",
       "\n",
       "    .dataframe thead th {\n",
       "        text-align: right;\n",
       "    }\n",
       "</style>\n",
       "<table border=\"1\" class=\"dataframe\">\n",
       "  <thead>\n",
       "    <tr style=\"text-align: right;\">\n",
       "      <th></th>\n",
       "      <th>Sleep_Hours_Per_Night</th>\n",
       "      <th>Continent_Asia</th>\n",
       "      <th>Continent_Europe</th>\n",
       "      <th>Continent_North America</th>\n",
       "      <th>Continent_Oceania</th>\n",
       "      <th>Continent_South America</th>\n",
       "      <th>Age_19</th>\n",
       "      <th>Age_20</th>\n",
       "      <th>Age_21</th>\n",
       "      <th>Age_22</th>\n",
       "      <th>Age_23</th>\n",
       "      <th>Age_24</th>\n",
       "    </tr>\n",
       "  </thead>\n",
       "  <tbody>\n",
       "    <tr>\n",
       "      <th>478</th>\n",
       "      <td>9.0</td>\n",
       "      <td>0</td>\n",
       "      <td>1</td>\n",
       "      <td>0</td>\n",
       "      <td>0</td>\n",
       "      <td>0</td>\n",
       "      <td>0</td>\n",
       "      <td>1</td>\n",
       "      <td>0</td>\n",
       "      <td>0</td>\n",
       "      <td>0</td>\n",
       "      <td>0</td>\n",
       "    </tr>\n",
       "    <tr>\n",
       "      <th>81</th>\n",
       "      <td>5.7</td>\n",
       "      <td>1</td>\n",
       "      <td>0</td>\n",
       "      <td>0</td>\n",
       "      <td>0</td>\n",
       "      <td>0</td>\n",
       "      <td>1</td>\n",
       "      <td>0</td>\n",
       "      <td>0</td>\n",
       "      <td>0</td>\n",
       "      <td>0</td>\n",
       "      <td>0</td>\n",
       "    </tr>\n",
       "    <tr>\n",
       "      <th>77</th>\n",
       "      <td>7.0</td>\n",
       "      <td>1</td>\n",
       "      <td>0</td>\n",
       "      <td>0</td>\n",
       "      <td>0</td>\n",
       "      <td>0</td>\n",
       "      <td>0</td>\n",
       "      <td>0</td>\n",
       "      <td>0</td>\n",
       "      <td>1</td>\n",
       "      <td>0</td>\n",
       "      <td>0</td>\n",
       "    </tr>\n",
       "    <tr>\n",
       "      <th>208</th>\n",
       "      <td>7.8</td>\n",
       "      <td>1</td>\n",
       "      <td>0</td>\n",
       "      <td>0</td>\n",
       "      <td>0</td>\n",
       "      <td>0</td>\n",
       "      <td>1</td>\n",
       "      <td>0</td>\n",
       "      <td>0</td>\n",
       "      <td>0</td>\n",
       "      <td>0</td>\n",
       "      <td>0</td>\n",
       "    </tr>\n",
       "    <tr>\n",
       "      <th>319</th>\n",
       "      <td>8.4</td>\n",
       "      <td>0</td>\n",
       "      <td>1</td>\n",
       "      <td>0</td>\n",
       "      <td>0</td>\n",
       "      <td>0</td>\n",
       "      <td>0</td>\n",
       "      <td>0</td>\n",
       "      <td>0</td>\n",
       "      <td>1</td>\n",
       "      <td>0</td>\n",
       "      <td>0</td>\n",
       "    </tr>\n",
       "    <tr>\n",
       "      <th>...</th>\n",
       "      <td>...</td>\n",
       "      <td>...</td>\n",
       "      <td>...</td>\n",
       "      <td>...</td>\n",
       "      <td>...</td>\n",
       "      <td>...</td>\n",
       "      <td>...</td>\n",
       "      <td>...</td>\n",
       "      <td>...</td>\n",
       "      <td>...</td>\n",
       "      <td>...</td>\n",
       "      <td>...</td>\n",
       "    </tr>\n",
       "    <tr>\n",
       "      <th>108</th>\n",
       "      <td>7.2</td>\n",
       "      <td>1</td>\n",
       "      <td>0</td>\n",
       "      <td>0</td>\n",
       "      <td>0</td>\n",
       "      <td>0</td>\n",
       "      <td>0</td>\n",
       "      <td>0</td>\n",
       "      <td>0</td>\n",
       "      <td>0</td>\n",
       "      <td>1</td>\n",
       "      <td>0</td>\n",
       "    </tr>\n",
       "    <tr>\n",
       "      <th>257</th>\n",
       "      <td>6.8</td>\n",
       "      <td>0</td>\n",
       "      <td>1</td>\n",
       "      <td>0</td>\n",
       "      <td>0</td>\n",
       "      <td>0</td>\n",
       "      <td>0</td>\n",
       "      <td>0</td>\n",
       "      <td>1</td>\n",
       "      <td>0</td>\n",
       "      <td>0</td>\n",
       "      <td>0</td>\n",
       "    </tr>\n",
       "    <tr>\n",
       "      <th>56</th>\n",
       "      <td>5.2</td>\n",
       "      <td>0</td>\n",
       "      <td>0</td>\n",
       "      <td>1</td>\n",
       "      <td>0</td>\n",
       "      <td>0</td>\n",
       "      <td>0</td>\n",
       "      <td>0</td>\n",
       "      <td>0</td>\n",
       "      <td>0</td>\n",
       "      <td>0</td>\n",
       "      <td>0</td>\n",
       "    </tr>\n",
       "    <tr>\n",
       "      <th>686</th>\n",
       "      <td>7.5</td>\n",
       "      <td>1</td>\n",
       "      <td>0</td>\n",
       "      <td>0</td>\n",
       "      <td>0</td>\n",
       "      <td>0</td>\n",
       "      <td>1</td>\n",
       "      <td>0</td>\n",
       "      <td>0</td>\n",
       "      <td>0</td>\n",
       "      <td>0</td>\n",
       "      <td>0</td>\n",
       "    </tr>\n",
       "    <tr>\n",
       "      <th>615</th>\n",
       "      <td>7.2</td>\n",
       "      <td>0</td>\n",
       "      <td>1</td>\n",
       "      <td>0</td>\n",
       "      <td>0</td>\n",
       "      <td>0</td>\n",
       "      <td>0</td>\n",
       "      <td>1</td>\n",
       "      <td>0</td>\n",
       "      <td>0</td>\n",
       "      <td>0</td>\n",
       "      <td>0</td>\n",
       "    </tr>\n",
       "  </tbody>\n",
       "</table>\n",
       "<p>141 rows × 12 columns</p>\n",
       "</div>"
      ],
      "text/plain": [
       "     Sleep_Hours_Per_Night  Continent_Asia  Continent_Europe  \\\n",
       "478                    9.0               0                 1   \n",
       "81                     5.7               1                 0   \n",
       "77                     7.0               1                 0   \n",
       "208                    7.8               1                 0   \n",
       "319                    8.4               0                 1   \n",
       "..                     ...             ...               ...   \n",
       "108                    7.2               1                 0   \n",
       "257                    6.8               0                 1   \n",
       "56                     5.2               0                 0   \n",
       "686                    7.5               1                 0   \n",
       "615                    7.2               0                 1   \n",
       "\n",
       "     Continent_North America  Continent_Oceania  Continent_South America  \\\n",
       "478                        0                  0                        0   \n",
       "81                         0                  0                        0   \n",
       "77                         0                  0                        0   \n",
       "208                        0                  0                        0   \n",
       "319                        0                  0                        0   \n",
       "..                       ...                ...                      ...   \n",
       "108                        0                  0                        0   \n",
       "257                        0                  0                        0   \n",
       "56                         1                  0                        0   \n",
       "686                        0                  0                        0   \n",
       "615                        0                  0                        0   \n",
       "\n",
       "     Age_19  Age_20  Age_21  Age_22  Age_23  Age_24  \n",
       "478       0       1       0       0       0       0  \n",
       "81        1       0       0       0       0       0  \n",
       "77        0       0       0       1       0       0  \n",
       "208       1       0       0       0       0       0  \n",
       "319       0       0       0       1       0       0  \n",
       "..      ...     ...     ...     ...     ...     ...  \n",
       "108       0       0       0       0       1       0  \n",
       "257       0       0       1       0       0       0  \n",
       "56        0       0       0       0       0       0  \n",
       "686       1       0       0       0       0       0  \n",
       "615       0       1       0       0       0       0  \n",
       "\n",
       "[141 rows x 12 columns]"
      ]
     },
     "execution_count": 232,
     "metadata": {},
     "output_type": "execute_result"
    }
   ],
   "source": [
    "X_test"
   ]
  },
  {
   "cell_type": "code",
   "execution_count": 247,
   "id": "6c810393",
   "metadata": {},
   "outputs": [
    {
     "name": "stderr",
     "output_type": "stream",
     "text": [
      "c:\\Users\\Usuario\\AppData\\Local\\Programs\\Python\\Python312\\Lib\\site-packages\\sklearn\\base.py:493: UserWarning: X does not have valid feature names, but RandomForestClassifier was fitted with feature names\n",
      "  warnings.warn(\n"
     ]
    }
   ],
   "source": [
    "\n",
    "age = 24\n",
    "continent = \"Europe\"\n",
    "sleep = 4\n",
    "#tenemos hot encoding en el model, hay que pasar todas las columnas de Age y de Continente\n",
    "col_age = [\"Age_19\", \"Age_20\", \"Age_21\", \"Age_22\", \"Age_23\", \"Age_24\"]\n",
    "age_dummies = {col: 0 for col in col_age}\n",
    "selected_col_age = f\"Age_{age}\"\n",
    "    \n",
    "if selected_col_age in age_dummies:\n",
    "    age_dummies[selected_col_age] = 1\n",
    "else:\n",
    "    print(f\"Advertencia: '{selected_col_age}', no es un valor permitido\")\n",
    "\n",
    "\n",
    "col_cont = [\"Continent_Asia\",\"Continent_Europe\",\"Continent_North America\",\"Continent_Oceania\",\"Continent_South America\"]\n",
    "continent_dummies = {col: 0 for col in col_cont}\n",
    "selected_col_cont = f\"Continent_{continent}\"\n",
    "    \n",
    "if selected_col_cont in continent_dummies: \n",
    "    continent_dummies[selected_col_cont]=1\n",
    "else :\n",
    "    pint:(f\"Advertencia: '{continent}', no es un continente valido\")\n",
    "\n",
    "if age is None or continent is None or sleep is None:\n",
    "    print:f\"Faltan argumentos, no se puede hacer predicciones\"\n",
    "else:\n",
    "    input_vector = [float(sleep)] + list(continent_dummies.values()) + list(age_dummies.values())\n",
    "    print:f\"{len(input_vector)}\" \n",
    "    prediction = rfc_smote.predict([input_vector])\n",
    "    print= (f\"{prediction}\")\n",
    "\n",
    "  "
   ]
  },
  {
   "cell_type": "code",
   "execution_count": 249,
   "id": "beb191c9",
   "metadata": {},
   "outputs": [
    {
     "data": {
      "text/plain": [
       "np.int64(9)"
      ]
     },
     "execution_count": 249,
     "metadata": {},
     "output_type": "execute_result"
    }
   ],
   "source": [
    "prediction[0]"
   ]
  },
  {
   "cell_type": "code",
   "execution_count": 234,
   "id": "cf30a3f2",
   "metadata": {},
   "outputs": [],
   "source": [
    "with open('model_2.pkl', 'wb') as f:\n",
    "    pickle.dump(rfc_smote, f)"
   ]
  },
  {
   "cell_type": "code",
   "execution_count": 235,
   "id": "5a634e83",
   "metadata": {},
   "outputs": [],
   "source": [
    "# Guardar el modelo\n",
    "#import joblib\n",
    "#joblib.dump(rfc_smote, '.model.pkl')"
   ]
  }
 ],
 "metadata": {
  "kernelspec": {
   "display_name": "Python 3",
   "language": "python",
   "name": "python3"
  },
  "language_info": {
   "codemirror_mode": {
    "name": "ipython",
    "version": 3
   },
   "file_extension": ".py",
   "mimetype": "text/x-python",
   "name": "python",
   "nbconvert_exporter": "python",
   "pygments_lexer": "ipython3",
   "version": "3.12.0"
  }
 },
 "nbformat": 4,
 "nbformat_minor": 5
}
